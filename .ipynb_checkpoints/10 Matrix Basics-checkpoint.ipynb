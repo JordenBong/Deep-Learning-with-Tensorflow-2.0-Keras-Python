{
 "cells": [
  {
   "cell_type": "code",
   "execution_count": 1,
   "id": "57ca0598-f317-4e87-89b9-7deeff062dec",
   "metadata": {},
   "outputs": [],
   "source": [
    "import numpy as np"
   ]
  },
  {
   "cell_type": "code",
   "execution_count": 2,
   "id": "1ded057a-f12d-493a-8c8f-92f91bed3a1a",
   "metadata": {},
   "outputs": [],
   "source": [
    "# Revenue and Expenses\n",
    "revenue = np.array([[180, 200, 220], [24, 36, 40], [12, 18, 20]])\n",
    "expenses = np.array([[80, 90, 100], [10, 16, 20], [8, 10, 10]])"
   ]
  },
  {
   "cell_type": "code",
   "execution_count": 3,
   "id": "448a8b9b-5058-41bd-b7b1-6ac4921744bb",
   "metadata": {},
   "outputs": [
    {
     "data": {
      "text/plain": [
       "array([[100, 110, 120],\n",
       "       [ 14,  20,  20],\n",
       "       [  4,   8,  10]])"
      ]
     },
     "execution_count": 3,
     "metadata": {},
     "output_type": "execute_result"
    }
   ],
   "source": [
    "profit = revenue - expenses\n",
    "profit"
   ]
  },
  {
   "cell_type": "code",
   "execution_count": 4,
   "id": "710dbd66-7ba4-447b-8bc1-bfeb2aaf1e47",
   "metadata": {},
   "outputs": [],
   "source": [
    "price_per_unit = np.array([1000, 400, 1200])\n",
    "units = np.array([[30, 40, 50],[5, 10, 15], [2, 5, 7]])"
   ]
  },
  {
   "cell_type": "code",
   "execution_count": 5,
   "id": "4c506a2c-f824-41bd-9e19-cf56d689e52e",
   "metadata": {},
   "outputs": [
    {
     "data": {
      "text/plain": [
       "array([[30000, 16000, 60000],\n",
       "       [ 5000,  4000, 18000],\n",
       "       [ 2000,  2000,  8400]])"
      ]
     },
     "execution_count": 5,
     "metadata": {},
     "output_type": "execute_result"
    }
   ],
   "source": [
    "# Broadcasting, not dot product \n",
    "price_per_unit * units"
   ]
  },
  {
   "cell_type": "code",
   "execution_count": 6,
   "id": "257f631d-a984-492b-b477-bfd1a96e5a77",
   "metadata": {},
   "outputs": [
    {
     "data": {
      "text/plain": [
       "array([34400, 50000, 64400])"
      ]
     },
     "execution_count": 6,
     "metadata": {},
     "output_type": "execute_result"
    }
   ],
   "source": [
    "# Dot Product\n",
    "np.dot(price_per_unit, units)"
   ]
  },
  {
   "cell_type": "markdown",
   "id": "8ea74e55-83b7-4e42-aafa-e59f822f0435",
   "metadata": {},
   "source": [
    "### Exercise"
   ]
  },
  {
   "cell_type": "code",
   "execution_count": 8,
   "id": "def68df3-e839-4ed2-a3ec-bbc9983b0c74",
   "metadata": {},
   "outputs": [
    {
     "data": {
      "text/plain": [
       "array([[15000, 16500, 18750],\n",
       "       [ 5100,  5925,  7875],\n",
       "       [ 8250, 10500, 13500],\n",
       "       [ 6000,  6375,  6750]])"
      ]
     },
     "execution_count": 8,
     "metadata": {},
     "output_type": "execute_result"
    }
   ],
   "source": [
    "# 1. USD -> IND\n",
    "revenue = np.array([[200, 220, 250], [68, 79, 105], [110, 140, 180], [80, 85, 90]])\n",
    "revenue * 75 "
   ]
  },
  {
   "cell_type": "code",
   "execution_count": 9,
   "id": "dc04da59-7499-4a99-af23-33ff5611857a",
   "metadata": {},
   "outputs": [
    {
     "data": {
      "text/plain": [
       "array([3175,  665, 3680])"
      ]
     },
     "execution_count": 9,
     "metadata": {},
     "output_type": "execute_result"
    }
   ],
   "source": [
    "# 2. Divine flowers profit\n",
    "units_sold = np.array([[50, 60, 25], [10, 13, 5], [40, 70, 52]])\n",
    "price_per_unit = np.array([20, 30, 15])\n",
    "np.dot(units_sold, price_per_unit)"
   ]
  },
  {
   "cell_type": "code",
   "execution_count": null,
   "id": "43ba4967-443f-4e47-8da8-4ac70778bc9b",
   "metadata": {},
   "outputs": [],
   "source": []
  }
 ],
 "metadata": {
  "kernelspec": {
   "display_name": "Python (.venv)",
   "language": "python",
   "name": ".venv"
  },
  "language_info": {
   "codemirror_mode": {
    "name": "ipython",
    "version": 3
   },
   "file_extension": ".py",
   "mimetype": "text/x-python",
   "name": "python",
   "nbconvert_exporter": "python",
   "pygments_lexer": "ipython3",
   "version": "3.12.10"
  }
 },
 "nbformat": 4,
 "nbformat_minor": 5
}
