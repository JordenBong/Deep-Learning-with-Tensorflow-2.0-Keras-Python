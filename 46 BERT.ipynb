{
 "cells": [
  {
   "cell_type": "code",
   "execution_count": 3,
   "id": "6b3f81cd-af7c-46c8-90ac-147897e7fa58",
   "metadata": {},
   "outputs": [],
   "source": [
    "import tensorflow_hub as hub\n",
    "import tensorflow_text as text"
   ]
  },
  {
   "cell_type": "code",
   "execution_count": 4,
   "id": "bdf68627-c2e3-4c3f-8402-ec35fd630c4d",
   "metadata": {},
   "outputs": [],
   "source": [
    "preprocess_url = \"https://kaggle.com/models/tensorflow/bert/TensorFlow2/en-uncased-preprocess/3\"\n",
    "encoder_url = \"https://www.kaggle.com/models/tensorflow/bert/TensorFlow2/en-uncased-l-12-h-768-a-12/4\""
   ]
  },
  {
   "cell_type": "code",
   "execution_count": 5,
   "id": "f1503f66-696e-49ff-8866-138c8f422afb",
   "metadata": {},
   "outputs": [],
   "source": [
    "# Create function pointer\n",
    "bert_preprocess_model = hub.KerasLayer(preprocess_url) "
   ]
  },
  {
   "cell_type": "code",
   "execution_count": 6,
   "id": "0b547b20-6000-4987-b983-dec45f697dc7",
   "metadata": {},
   "outputs": [
    {
     "data": {
      "text/plain": [
       "dict_keys(['input_type_ids', 'input_mask', 'input_word_ids'])"
      ]
     },
     "execution_count": 6,
     "metadata": {},
     "output_type": "execute_result"
    }
   ],
   "source": [
    "text_test = ['nice movie indeed', 'I love python programming']\n",
    "text_preprocessed = bert_preprocess_model(text_test)\n",
    "text_preprocessed.keys()"
   ]
  },
  {
   "cell_type": "code",
   "execution_count": 7,
   "id": "885e2edf-ad70-408e-9ee3-0a1cb01d4f74",
   "metadata": {},
   "outputs": [
    {
     "data": {
      "text/plain": [
       "<tf.Tensor: shape=(2, 128), dtype=int32, numpy=\n",
       "array([[1, 1, 1, 1, 1, 0, 0, 0, 0, 0, 0, 0, 0, 0, 0, 0, 0, 0, 0, 0, 0, 0,\n",
       "        0, 0, 0, 0, 0, 0, 0, 0, 0, 0, 0, 0, 0, 0, 0, 0, 0, 0, 0, 0, 0, 0,\n",
       "        0, 0, 0, 0, 0, 0, 0, 0, 0, 0, 0, 0, 0, 0, 0, 0, 0, 0, 0, 0, 0, 0,\n",
       "        0, 0, 0, 0, 0, 0, 0, 0, 0, 0, 0, 0, 0, 0, 0, 0, 0, 0, 0, 0, 0, 0,\n",
       "        0, 0, 0, 0, 0, 0, 0, 0, 0, 0, 0, 0, 0, 0, 0, 0, 0, 0, 0, 0, 0, 0,\n",
       "        0, 0, 0, 0, 0, 0, 0, 0, 0, 0, 0, 0, 0, 0, 0, 0, 0, 0],\n",
       "       [1, 1, 1, 1, 1, 1, 0, 0, 0, 0, 0, 0, 0, 0, 0, 0, 0, 0, 0, 0, 0, 0,\n",
       "        0, 0, 0, 0, 0, 0, 0, 0, 0, 0, 0, 0, 0, 0, 0, 0, 0, 0, 0, 0, 0, 0,\n",
       "        0, 0, 0, 0, 0, 0, 0, 0, 0, 0, 0, 0, 0, 0, 0, 0, 0, 0, 0, 0, 0, 0,\n",
       "        0, 0, 0, 0, 0, 0, 0, 0, 0, 0, 0, 0, 0, 0, 0, 0, 0, 0, 0, 0, 0, 0,\n",
       "        0, 0, 0, 0, 0, 0, 0, 0, 0, 0, 0, 0, 0, 0, 0, 0, 0, 0, 0, 0, 0, 0,\n",
       "        0, 0, 0, 0, 0, 0, 0, 0, 0, 0, 0, 0, 0, 0, 0, 0, 0, 0]],\n",
       "      dtype=int32)>"
      ]
     },
     "execution_count": 7,
     "metadata": {},
     "output_type": "execute_result"
    }
   ],
   "source": [
    "text_preprocessed['input_mask'] # Auto add [CLS] and [SEP] at front and end sentence"
   ]
  },
  {
   "cell_type": "code",
   "execution_count": 8,
   "id": "ce49ef89-3b5c-49b5-a9b6-f3c550bb45b9",
   "metadata": {},
   "outputs": [
    {
     "data": {
      "text/plain": [
       "<tf.Tensor: shape=(2, 128), dtype=int32, numpy=\n",
       "array([[0, 0, 0, 0, 0, 0, 0, 0, 0, 0, 0, 0, 0, 0, 0, 0, 0, 0, 0, 0, 0, 0,\n",
       "        0, 0, 0, 0, 0, 0, 0, 0, 0, 0, 0, 0, 0, 0, 0, 0, 0, 0, 0, 0, 0, 0,\n",
       "        0, 0, 0, 0, 0, 0, 0, 0, 0, 0, 0, 0, 0, 0, 0, 0, 0, 0, 0, 0, 0, 0,\n",
       "        0, 0, 0, 0, 0, 0, 0, 0, 0, 0, 0, 0, 0, 0, 0, 0, 0, 0, 0, 0, 0, 0,\n",
       "        0, 0, 0, 0, 0, 0, 0, 0, 0, 0, 0, 0, 0, 0, 0, 0, 0, 0, 0, 0, 0, 0,\n",
       "        0, 0, 0, 0, 0, 0, 0, 0, 0, 0, 0, 0, 0, 0, 0, 0, 0, 0],\n",
       "       [0, 0, 0, 0, 0, 0, 0, 0, 0, 0, 0, 0, 0, 0, 0, 0, 0, 0, 0, 0, 0, 0,\n",
       "        0, 0, 0, 0, 0, 0, 0, 0, 0, 0, 0, 0, 0, 0, 0, 0, 0, 0, 0, 0, 0, 0,\n",
       "        0, 0, 0, 0, 0, 0, 0, 0, 0, 0, 0, 0, 0, 0, 0, 0, 0, 0, 0, 0, 0, 0,\n",
       "        0, 0, 0, 0, 0, 0, 0, 0, 0, 0, 0, 0, 0, 0, 0, 0, 0, 0, 0, 0, 0, 0,\n",
       "        0, 0, 0, 0, 0, 0, 0, 0, 0, 0, 0, 0, 0, 0, 0, 0, 0, 0, 0, 0, 0, 0,\n",
       "        0, 0, 0, 0, 0, 0, 0, 0, 0, 0, 0, 0, 0, 0, 0, 0, 0, 0]],\n",
       "      dtype=int32)>"
      ]
     },
     "execution_count": 8,
     "metadata": {},
     "output_type": "execute_result"
    }
   ],
   "source": [
    "text_preprocessed['input_type_ids'] # Talk about it later"
   ]
  },
  {
   "cell_type": "code",
   "execution_count": 10,
   "id": "62a96954-67b6-4b2b-804c-033b7caeee91",
   "metadata": {},
   "outputs": [
    {
     "data": {
      "text/plain": [
       "<tf.Tensor: shape=(2, 128), dtype=int32, numpy=\n",
       "array([[  101,  3835,  3185,  5262,   102,     0,     0,     0,     0,\n",
       "            0,     0,     0,     0,     0,     0,     0,     0,     0,\n",
       "            0,     0,     0,     0,     0,     0,     0,     0,     0,\n",
       "            0,     0,     0,     0,     0,     0,     0,     0,     0,\n",
       "            0,     0,     0,     0,     0,     0,     0,     0,     0,\n",
       "            0,     0,     0,     0,     0,     0,     0,     0,     0,\n",
       "            0,     0,     0,     0,     0,     0,     0,     0,     0,\n",
       "            0,     0,     0,     0,     0,     0,     0,     0,     0,\n",
       "            0,     0,     0,     0,     0,     0,     0,     0,     0,\n",
       "            0,     0,     0,     0,     0,     0,     0,     0,     0,\n",
       "            0,     0,     0,     0,     0,     0,     0,     0,     0,\n",
       "            0,     0,     0,     0,     0,     0,     0,     0,     0,\n",
       "            0,     0,     0,     0,     0,     0,     0,     0,     0,\n",
       "            0,     0,     0,     0,     0,     0,     0,     0,     0,\n",
       "            0,     0],\n",
       "       [  101,  1045,  2293, 18750,  4730,   102,     0,     0,     0,\n",
       "            0,     0,     0,     0,     0,     0,     0,     0,     0,\n",
       "            0,     0,     0,     0,     0,     0,     0,     0,     0,\n",
       "            0,     0,     0,     0,     0,     0,     0,     0,     0,\n",
       "            0,     0,     0,     0,     0,     0,     0,     0,     0,\n",
       "            0,     0,     0,     0,     0,     0,     0,     0,     0,\n",
       "            0,     0,     0,     0,     0,     0,     0,     0,     0,\n",
       "            0,     0,     0,     0,     0,     0,     0,     0,     0,\n",
       "            0,     0,     0,     0,     0,     0,     0,     0,     0,\n",
       "            0,     0,     0,     0,     0,     0,     0,     0,     0,\n",
       "            0,     0,     0,     0,     0,     0,     0,     0,     0,\n",
       "            0,     0,     0,     0,     0,     0,     0,     0,     0,\n",
       "            0,     0,     0,     0,     0,     0,     0,     0,     0,\n",
       "            0,     0,     0,     0,     0,     0,     0,     0,     0,\n",
       "            0,     0]], dtype=int32)>"
      ]
     },
     "execution_count": 10,
     "metadata": {},
     "output_type": "execute_result"
    }
   ],
   "source": [
    "text_preprocessed['input_word_ids'] # Unique ID for the words"
   ]
  },
  {
   "cell_type": "code",
   "execution_count": 11,
   "id": "274c50a9-a625-45f5-bb9f-a2184765693c",
   "metadata": {},
   "outputs": [],
   "source": [
    "bert_model = hub.KerasLayer(encoder_url)"
   ]
  },
  {
   "cell_type": "code",
   "execution_count": 12,
   "id": "48fca799-6bee-4bb0-a5f3-1def63adf844",
   "metadata": {},
   "outputs": [
    {
     "data": {
      "text/plain": [
       "dict_keys(['pooled_output', 'sequence_output', 'encoder_outputs', 'default'])"
      ]
     },
     "execution_count": 12,
     "metadata": {},
     "output_type": "execute_result"
    }
   ],
   "source": [
    "bert_results = bert_model(text_preprocessed)\n",
    "bert_results.keys()"
   ]
  },
  {
   "cell_type": "code",
   "execution_count": 14,
   "id": "5a44eca9-2ea6-4339-b414-a090a64ee544",
   "metadata": {},
   "outputs": [
    {
     "data": {
      "text/plain": [
       "<tf.Tensor: shape=(2, 768), dtype=float32, numpy=\n",
       "array([[-0.79177415, -0.21411929,  0.49769533, ...,  0.24465209,\n",
       "        -0.47334486,  0.8175871 ],\n",
       "       [-0.917123  , -0.47935176, -0.78656983, ..., -0.6175174 ,\n",
       "        -0.7102685 ,  0.92184293]], dtype=float32)>"
      ]
     },
     "execution_count": 14,
     "metadata": {},
     "output_type": "execute_result"
    }
   ],
   "source": [
    "bert_results['pooled_output'] # embedding for entire sentence"
   ]
  },
  {
   "cell_type": "code",
   "execution_count": 15,
   "id": "0c450916-5b28-4157-963d-7b3286301fda",
   "metadata": {},
   "outputs": [
    {
     "data": {
      "text/plain": [
       "<tf.Tensor: shape=(2, 128, 768), dtype=float32, numpy=\n",
       "array([[[ 0.07292037,  0.08567812,  0.1447685 , ..., -0.09677109,\n",
       "          0.08722121,  0.07711107],\n",
       "        [ 0.17839426, -0.19006146,  0.50349414, ..., -0.05869887,\n",
       "          0.327171  , -0.1557852 ],\n",
       "        [ 0.18701439, -0.43388805, -0.48875085, ..., -0.15502751,\n",
       "          0.0014521 , -0.24470903],\n",
       "        ...,\n",
       "        [ 0.12083086,  0.12884225,  0.46453533, ...,  0.07375525,\n",
       "          0.17441948,  0.16522123],\n",
       "        [ 0.0796792 , -0.01190653,  0.502254  , ...,  0.13777748,\n",
       "          0.21002203,  0.00624602],\n",
       "        [-0.07212682, -0.28303498,  0.5903336 , ...,  0.47551885,\n",
       "          0.16668475, -0.08920328]],\n",
       "\n",
       "       [[-0.07900576,  0.36335114, -0.21101576, ..., -0.17183727,\n",
       "          0.16299757,  0.67242616],\n",
       "        [ 0.27883574,  0.4371623 , -0.357648  , ..., -0.04463609,\n",
       "          0.38315246,  0.5887981 ],\n",
       "        [ 1.2037673 ,  1.0727017 ,  0.4840874 , ...,  0.2492101 ,\n",
       "          0.40730911,  0.40481764],\n",
       "        ...,\n",
       "        [ 0.08630042,  0.19353814,  0.47540024, ...,  0.18880183,\n",
       "         -0.06474105,  0.31318593],\n",
       "        [ 0.15887062,  0.28572646,  0.37340784, ...,  0.09309107,\n",
       "         -0.04969581,  0.38761112],\n",
       "        [-0.08079872, -0.09572884,  0.26809785, ...,  0.13979617,\n",
       "         -0.06315839,  0.27288345]]], dtype=float32)>"
      ]
     },
     "execution_count": 15,
     "metadata": {},
     "output_type": "execute_result"
    }
   ],
   "source": [
    "bert_results['sequence_output'] # individual word embedding"
   ]
  },
  {
   "cell_type": "code",
   "execution_count": 18,
   "id": "9a1b9ab4-758c-49c0-8e63-94c5e33d0e71",
   "metadata": {},
   "outputs": [
    {
     "data": {
      "text/plain": [
       "12"
      ]
     },
     "execution_count": 18,
     "metadata": {},
     "output_type": "execute_result"
    }
   ],
   "source": [
    "len(bert_results['encoder_outputs']) # 12 encoders --> small bert base, large = 24 encoders"
   ]
  },
  {
   "cell_type": "code",
   "execution_count": 20,
   "id": "80e6e3a8-ccef-4ac1-9667-f72c4d187ea7",
   "metadata": {},
   "outputs": [
    {
     "data": {
      "text/plain": [
       "<tf.Tensor: shape=(2, 128, 768), dtype=float32, numpy=\n",
       "array([[[ 0.12901425,  0.00644748, -0.03614961, ...,  0.04999627,\n",
       "          0.06149196, -0.02657561],\n",
       "        [ 1.1753383 ,  1.214079  ,  1.1569979 , ...,  0.11634393,\n",
       "         -0.35855335, -0.40490183],\n",
       "        [ 0.03859039,  0.5386996 , -0.21089831, ...,  0.2185821 ,\n",
       "          0.72601694, -1.1158606 ],\n",
       "        ...,\n",
       "        [-0.07587031, -0.25421914,  0.70755106, ...,  0.5054203 ,\n",
       "         -0.1887867 ,  0.1502834 ],\n",
       "        [-0.16066617, -0.28089693,  0.5759709 , ...,  0.5275857 ,\n",
       "         -0.1114136 ,  0.02887535],\n",
       "        [-0.0442817 , -0.20279607,  0.59093565, ...,  0.8133836 ,\n",
       "         -0.390758  , -0.02601741]],\n",
       "\n",
       "       [[ 0.18903577,  0.02752562, -0.06513738, ..., -0.00620206,\n",
       "          0.15053889,  0.03165441],\n",
       "        [ 0.59161466,  0.75891405, -0.07240663, ...,  0.61903954,\n",
       "          0.82928896,  0.16161957],\n",
       "        [ 1.4460828 ,  0.44602612,  0.40990272, ...,  0.48255897,\n",
       "          0.6269115 ,  0.13463409],\n",
       "        ...,\n",
       "        [ 0.15147892, -0.2157386 ,  0.7032909 , ..., -0.12537193,\n",
       "         -0.13787259,  0.27722052],\n",
       "        [ 0.05143811, -0.24052723,  0.5356914 , ..., -0.07915016,\n",
       "         -0.03307951,  0.17380908],\n",
       "        [ 0.20934711, -0.15645273,  0.6039549 , ...,  0.32903558,\n",
       "         -0.35827154,  0.08100392]]], dtype=float32)>"
      ]
     },
     "execution_count": 20,
     "metadata": {},
     "output_type": "execute_result"
    }
   ],
   "source": [
    "bert_results['encoder_outputs'][0]"
   ]
  },
  {
   "cell_type": "code",
   "execution_count": 22,
   "id": "e4d3787b-bfbb-49c5-a415-678f5dfd30d9",
   "metadata": {},
   "outputs": [
    {
     "data": {
      "text/plain": [
       "<tf.Tensor: shape=(2, 128, 768), dtype=bool, numpy=\n",
       "array([[[ True,  True,  True, ...,  True,  True,  True],\n",
       "        [ True,  True,  True, ...,  True,  True,  True],\n",
       "        [ True,  True,  True, ...,  True,  True,  True],\n",
       "        ...,\n",
       "        [ True,  True,  True, ...,  True,  True,  True],\n",
       "        [ True,  True,  True, ...,  True,  True,  True],\n",
       "        [ True,  True,  True, ...,  True,  True,  True]],\n",
       "\n",
       "       [[ True,  True,  True, ...,  True,  True,  True],\n",
       "        [ True,  True,  True, ...,  True,  True,  True],\n",
       "        [ True,  True,  True, ...,  True,  True,  True],\n",
       "        ...,\n",
       "        [ True,  True,  True, ...,  True,  True,  True],\n",
       "        [ True,  True,  True, ...,  True,  True,  True],\n",
       "        [ True,  True,  True, ...,  True,  True,  True]]])>"
      ]
     },
     "execution_count": 22,
     "metadata": {},
     "output_type": "execute_result"
    }
   ],
   "source": [
    "bert_results['encoder_outputs'][-1] == bert_results[\"sequence_output\"] # last layer of encoder layer == sequeunce output"
   ]
  },
  {
   "cell_type": "code",
   "execution_count": null,
   "id": "6f45e9c4-6b4a-4992-b83b-d6a399e5d8d1",
   "metadata": {},
   "outputs": [],
   "source": []
  }
 ],
 "metadata": {
  "kernelspec": {
   "display_name": "Python (.venv)",
   "language": "python",
   "name": ".venv"
  },
  "language_info": {
   "codemirror_mode": {
    "name": "ipython",
    "version": 3
   },
   "file_extension": ".py",
   "mimetype": "text/x-python",
   "name": "python",
   "nbconvert_exporter": "python",
   "pygments_lexer": "ipython3",
   "version": "3.12.10"
  }
 },
 "nbformat": 4,
 "nbformat_minor": 5
}
