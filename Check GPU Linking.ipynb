{
 "cells": [
  {
   "cell_type": "markdown",
   "id": "78eb710b-02aa-4720-820c-987c3c39b004",
   "metadata": {},
   "source": [
    "## GPU Linking for Mac with M1 processor above"
   ]
  },
  {
   "cell_type": "code",
   "execution_count": null,
   "id": "9c703533-1a34-4948-b916-7be24ddaa419",
   "metadata": {},
   "outputs": [],
   "source": [
    "# !pip install tensorflow-metal"
   ]
  },
  {
   "cell_type": "code",
   "execution_count": 1,
   "id": "d3ff54f9-c5db-4e20-8a5f-a1cd6456809a",
   "metadata": {},
   "outputs": [
    {
     "name": "stdout",
     "output_type": "stream",
     "text": [
      "\n",
      "Devices:  [PhysicalDevice(name='/physical_device:CPU:0', device_type='CPU'), PhysicalDevice(name='/physical_device:GPU:0', device_type='GPU')]\n",
      "GPU details:  {'device_name': 'METAL'}\n"
     ]
    }
   ],
   "source": [
    "import tensorflow as tf\n",
    "devices = tf.config.list_physical_devices()\n",
    "print(\"\\nDevices: \", devices)\n",
    "\n",
    "gpus = tf.config.list_physical_devices('GPU')\n",
    "if gpus:\n",
    "  details = tf.config.experimental.get_device_details(gpus[0])\n",
    "  print(\"GPU details: \", details)"
   ]
  },
  {
   "cell_type": "code",
   "execution_count": null,
   "id": "0aec195b-483a-4f7e-8e80-5788b237bc5f",
   "metadata": {},
   "outputs": [],
   "source": []
  }
 ],
 "metadata": {
  "kernelspec": {
   "display_name": "Python (.venv)",
   "language": "python",
   "name": ".venv"
  },
  "language_info": {
   "codemirror_mode": {
    "name": "ipython",
    "version": 3
   },
   "file_extension": ".py",
   "mimetype": "text/x-python",
   "name": "python",
   "nbconvert_exporter": "python",
   "pygments_lexer": "ipython3",
   "version": "3.12.10"
  }
 },
 "nbformat": 4,
 "nbformat_minor": 5
}
