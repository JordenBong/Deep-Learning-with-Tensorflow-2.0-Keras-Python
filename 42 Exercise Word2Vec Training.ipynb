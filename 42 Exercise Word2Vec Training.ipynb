{
 "cells": [
  {
   "cell_type": "markdown",
   "id": "15ade159-b494-4a8b-8aa4-9efbc7b74a5d",
   "metadata": {},
   "source": [
    "## Exercise\n",
    "Train a word2vec model on the Sports & Outdoors Reviews Dataset Once you train a model on this, find the words most similar to 'awful' and find similarities between the following word tuples: ('good', 'great'), ('slow','steady')\n",
    "\n",
    "http://snap.stanford.edu/data/amazon/productGraph/categoryFiles/reviews_Sports_and_Outdoors_5.json.gz\n",
    "\n",
    "Click here for solution."
   ]
  },
  {
   "cell_type": "code",
   "execution_count": 1,
   "id": "fdb2147a-5469-4dee-854b-0130bac58e0b",
   "metadata": {},
   "outputs": [],
   "source": [
    "import gensim\n",
    "import pandas as pd"
   ]
  },
  {
   "cell_type": "code",
   "execution_count": 3,
   "id": "47f90849-69ff-406e-b6be-22f48357b0fd",
   "metadata": {},
   "outputs": [
    {
     "data": {
      "text/html": [
       "<div>\n",
       "<style scoped>\n",
       "    .dataframe tbody tr th:only-of-type {\n",
       "        vertical-align: middle;\n",
       "    }\n",
       "\n",
       "    .dataframe tbody tr th {\n",
       "        vertical-align: top;\n",
       "    }\n",
       "\n",
       "    .dataframe thead th {\n",
       "        text-align: right;\n",
       "    }\n",
       "</style>\n",
       "<table border=\"1\" class=\"dataframe\">\n",
       "  <thead>\n",
       "    <tr style=\"text-align: right;\">\n",
       "      <th></th>\n",
       "      <th>reviewerID</th>\n",
       "      <th>asin</th>\n",
       "      <th>reviewerName</th>\n",
       "      <th>helpful</th>\n",
       "      <th>reviewText</th>\n",
       "      <th>overall</th>\n",
       "      <th>summary</th>\n",
       "      <th>unixReviewTime</th>\n",
       "      <th>reviewTime</th>\n",
       "    </tr>\n",
       "  </thead>\n",
       "  <tbody>\n",
       "    <tr>\n",
       "      <th>0</th>\n",
       "      <td>AIXZKN4ACSKI</td>\n",
       "      <td>1881509818</td>\n",
       "      <td>David Briner</td>\n",
       "      <td>[0, 0]</td>\n",
       "      <td>This came in on time and I am veru happy with ...</td>\n",
       "      <td>5</td>\n",
       "      <td>Woks very good</td>\n",
       "      <td>1390694400</td>\n",
       "      <td>01 26, 2014</td>\n",
       "    </tr>\n",
       "    <tr>\n",
       "      <th>1</th>\n",
       "      <td>A1L5P841VIO02V</td>\n",
       "      <td>1881509818</td>\n",
       "      <td>Jason A. Kramer</td>\n",
       "      <td>[1, 1]</td>\n",
       "      <td>I had a factory Glock tool that I was using fo...</td>\n",
       "      <td>5</td>\n",
       "      <td>Works as well as the factory tool</td>\n",
       "      <td>1328140800</td>\n",
       "      <td>02 2, 2012</td>\n",
       "    </tr>\n",
       "    <tr>\n",
       "      <th>2</th>\n",
       "      <td>AB2W04NI4OEAD</td>\n",
       "      <td>1881509818</td>\n",
       "      <td>J. Fernald</td>\n",
       "      <td>[2, 2]</td>\n",
       "      <td>If you don't have a 3/32 punch or would like t...</td>\n",
       "      <td>4</td>\n",
       "      <td>It's a punch, that's all.</td>\n",
       "      <td>1330387200</td>\n",
       "      <td>02 28, 2012</td>\n",
       "    </tr>\n",
       "    <tr>\n",
       "      <th>3</th>\n",
       "      <td>A148SVSWKTJKU6</td>\n",
       "      <td>1881509818</td>\n",
       "      <td>Jusitn A. Watts \"Maverick9614\"</td>\n",
       "      <td>[0, 0]</td>\n",
       "      <td>This works no better than any 3/32 punch you w...</td>\n",
       "      <td>4</td>\n",
       "      <td>It's a punch with a Glock logo.</td>\n",
       "      <td>1328400000</td>\n",
       "      <td>02 5, 2012</td>\n",
       "    </tr>\n",
       "    <tr>\n",
       "      <th>4</th>\n",
       "      <td>AAAWJ6LW9WMOO</td>\n",
       "      <td>1881509818</td>\n",
       "      <td>Material Man</td>\n",
       "      <td>[0, 0]</td>\n",
       "      <td>I purchased this thinking maybe I need a speci...</td>\n",
       "      <td>4</td>\n",
       "      <td>Ok,tool does what a regular punch does.</td>\n",
       "      <td>1366675200</td>\n",
       "      <td>04 23, 2013</td>\n",
       "    </tr>\n",
       "  </tbody>\n",
       "</table>\n",
       "</div>"
      ],
      "text/plain": [
       "       reviewerID        asin                    reviewerName helpful  \\\n",
       "0    AIXZKN4ACSKI  1881509818                    David Briner  [0, 0]   \n",
       "1  A1L5P841VIO02V  1881509818                 Jason A. Kramer  [1, 1]   \n",
       "2   AB2W04NI4OEAD  1881509818                      J. Fernald  [2, 2]   \n",
       "3  A148SVSWKTJKU6  1881509818  Jusitn A. Watts \"Maverick9614\"  [0, 0]   \n",
       "4   AAAWJ6LW9WMOO  1881509818                    Material Man  [0, 0]   \n",
       "\n",
       "                                          reviewText  overall  \\\n",
       "0  This came in on time and I am veru happy with ...        5   \n",
       "1  I had a factory Glock tool that I was using fo...        5   \n",
       "2  If you don't have a 3/32 punch or would like t...        4   \n",
       "3  This works no better than any 3/32 punch you w...        4   \n",
       "4  I purchased this thinking maybe I need a speci...        4   \n",
       "\n",
       "                                   summary  unixReviewTime   reviewTime  \n",
       "0                           Woks very good      1390694400  01 26, 2014  \n",
       "1        Works as well as the factory tool      1328140800   02 2, 2012  \n",
       "2                It's a punch, that's all.      1330387200  02 28, 2012  \n",
       "3          It's a punch with a Glock logo.      1328400000   02 5, 2012  \n",
       "4  Ok,tool does what a regular punch does.      1366675200  04 23, 2013  "
      ]
     },
     "execution_count": 3,
     "metadata": {},
     "output_type": "execute_result"
    }
   ],
   "source": [
    "df = pd.read_json(\"datasets/reviews_Sports_and_Outdoors_5.json\", lines=True)\n",
    "df.head()"
   ]
  },
  {
   "cell_type": "code",
   "execution_count": 4,
   "id": "c7004978-aa9d-4747-b01e-61ffc881eeaf",
   "metadata": {},
   "outputs": [
    {
     "data": {
      "text/plain": [
       "'This came in on time and I am veru happy with it, I haved used it already and it makes taking out the pins in my glock 32 very easy'"
      ]
     },
     "execution_count": 4,
     "metadata": {},
     "output_type": "execute_result"
    }
   ],
   "source": [
    "df.reviewText[0]"
   ]
  },
  {
   "cell_type": "code",
   "execution_count": 5,
   "id": "c0e6ca4f-9d8a-44b2-afd6-a0bbf44943eb",
   "metadata": {},
   "outputs": [
    {
     "data": {
      "text/plain": [
       "['this',\n",
       " 'came',\n",
       " 'in',\n",
       " 'on',\n",
       " 'time',\n",
       " 'and',\n",
       " 'am',\n",
       " 'veru',\n",
       " 'happy',\n",
       " 'with',\n",
       " 'it',\n",
       " 'haved',\n",
       " 'used',\n",
       " 'it',\n",
       " 'already',\n",
       " 'and',\n",
       " 'it',\n",
       " 'makes',\n",
       " 'taking',\n",
       " 'out',\n",
       " 'the',\n",
       " 'pins',\n",
       " 'in',\n",
       " 'my',\n",
       " 'glock',\n",
       " 'very',\n",
       " 'easy']"
      ]
     },
     "execution_count": 5,
     "metadata": {},
     "output_type": "execute_result"
    }
   ],
   "source": [
    "gensim.utils.simple_preprocess(df.reviewText[0])"
   ]
  },
  {
   "cell_type": "code",
   "execution_count": 6,
   "id": "e1f2c0d2-5715-40ca-879c-180276cf5caf",
   "metadata": {},
   "outputs": [],
   "source": [
    "review_text = df.reviewText.apply(gensim.utils.simple_preprocess)"
   ]
  },
  {
   "cell_type": "code",
   "execution_count": 7,
   "id": "7bd7c1cd-8e82-41b0-9a54-89dba36542db",
   "metadata": {},
   "outputs": [
    {
     "data": {
      "text/plain": [
       "0    [this, came, in, on, time, and, am, veru, happ...\n",
       "1    [had, factory, glock, tool, that, was, using, ...\n",
       "2    [if, you, don, have, punch, or, would, like, t...\n",
       "3    [this, works, no, better, than, any, punch, yo...\n",
       "4    [purchased, this, thinking, maybe, need, speci...\n",
       "Name: reviewText, dtype: object"
      ]
     },
     "execution_count": 7,
     "metadata": {},
     "output_type": "execute_result"
    }
   ],
   "source": [
    "review_text[:5]"
   ]
  },
  {
   "cell_type": "code",
   "execution_count": 9,
   "id": "b9a79fc3-ba92-4b29-affc-ba7e3bc2f5f1",
   "metadata": {},
   "outputs": [
    {
     "data": {
      "text/plain": [
       "(296337,)"
      ]
     },
     "execution_count": 9,
     "metadata": {},
     "output_type": "execute_result"
    }
   ],
   "source": [
    "review_text.shape"
   ]
  },
  {
   "cell_type": "code",
   "execution_count": 10,
   "id": "de1c2678-d74a-4cd1-9122-96aa1038ad2a",
   "metadata": {},
   "outputs": [],
   "source": [
    "# Create Gensim Word2Vec models\n",
    "model = gensim.models.Word2Vec(\n",
    "    window=10,\n",
    "    min_count=2,\n",
    "    workers=4\n",
    ")"
   ]
  },
  {
   "cell_type": "code",
   "execution_count": 11,
   "id": "f0519e23-d4e4-46c1-91e7-6d332aca71d7",
   "metadata": {},
   "outputs": [],
   "source": [
    "model.build_vocab(review_text, progress_per=100)"
   ]
  },
  {
   "cell_type": "code",
   "execution_count": 13,
   "id": "a23d453e-f6d8-495e-9999-8ada023317b5",
   "metadata": {},
   "outputs": [
    {
     "data": {
      "text/plain": [
       "(91346984, 121496535)"
      ]
     },
     "execution_count": 13,
     "metadata": {},
     "output_type": "execute_result"
    }
   ],
   "source": [
    "model.train(review_text, epochs=5, total_examples=model.corpus_count)"
   ]
  },
  {
   "cell_type": "code",
   "execution_count": 15,
   "id": "08813bd2-abcd-453e-b4bf-e74973081245",
   "metadata": {},
   "outputs": [],
   "source": [
    "model.save(\"./word2vec-amazon-sports-outdoors-reviews-short.model\")"
   ]
  },
  {
   "cell_type": "code",
   "execution_count": 16,
   "id": "a0032dbb-2368-4f48-bbc5-9b99bfdd74af",
   "metadata": {},
   "outputs": [
    {
     "data": {
      "text/plain": [
       "[('decent', 0.8633972406387329),\n",
       " ('great', 0.7866966128349304),\n",
       " ('nice', 0.7241145372390747),\n",
       " ('fantastic', 0.7088222503662109),\n",
       " ('excellent', 0.6362667083740234),\n",
       " ('terrific', 0.6189201474189758),\n",
       " ('reasonable', 0.6032039523124695),\n",
       " ('awesome', 0.595365583896637),\n",
       " ('superb', 0.588336706161499),\n",
       " ('wonderful', 0.5774805545806885)]"
      ]
     },
     "execution_count": 16,
     "metadata": {},
     "output_type": "execute_result"
    }
   ],
   "source": [
    "model.wv.most_similar(\"good\")"
   ]
  },
  {
   "cell_type": "code",
   "execution_count": 17,
   "id": "16bb219e-cbcc-4100-ae88-b2dc2b8636d4",
   "metadata": {},
   "outputs": [
    {
     "data": {
      "text/plain": [
       "[('lacrosse', 0.8712384104728699),\n",
       " ('softball', 0.8699854612350464),\n",
       " ('football', 0.8519942760467529),\n",
       " ('volleyball', 0.8325576186180115),\n",
       " ('baseball', 0.8303764462471008),\n",
       " ('basketball', 0.8210557699203491),\n",
       " ('badminton', 0.795292317867279),\n",
       " ('batting', 0.7945442199707031),\n",
       " ('footballs', 0.7772611975669861),\n",
       " ('tournaments', 0.7675103545188904)]"
      ]
     },
     "execution_count": 17,
     "metadata": {},
     "output_type": "execute_result"
    }
   ],
   "source": [
    "model.wv.most_similar(\"soccer\")"
   ]
  },
  {
   "cell_type": "code",
   "execution_count": null,
   "id": "f1ba7bda-17fd-4ffa-92a6-b06ce8d5aa8d",
   "metadata": {},
   "outputs": [],
   "source": []
  }
 ],
 "metadata": {
  "kernelspec": {
   "display_name": "Python (.venv)",
   "language": "python",
   "name": ".venv"
  },
  "language_info": {
   "codemirror_mode": {
    "name": "ipython",
    "version": 3
   },
   "file_extension": ".py",
   "mimetype": "text/x-python",
   "name": "python",
   "nbconvert_exporter": "python",
   "pygments_lexer": "ipython3",
   "version": "3.12.10"
  }
 },
 "nbformat": 4,
 "nbformat_minor": 5
}
